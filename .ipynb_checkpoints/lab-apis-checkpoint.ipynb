{
 "cells": [
  {
   "cell_type": "markdown",
   "metadata": {},
   "source": [
    "# Lab | APIs"
   ]
  },
  {
   "cell_type": "markdown",
   "metadata": {},
   "source": [
    "In order to use the `Spotify` API (`SpotiPy`), create an account in `Spotify` and follow [these](https://developer.spotify.com/documentation/general/guides/app-settings/) steps. "
   ]
  },
  {
   "cell_type": "markdown",
   "metadata": {},
   "source": [
    "## Authentication and initializing the API"
   ]
  },
  {
   "cell_type": "markdown",
   "metadata": {},
   "source": [
    "Save your client ID and your client secret in your preferred way, and read it or load it into the following variables:"
   ]
  },
  {
   "cell_type": "code",
   "execution_count": 2,
   "metadata": {},
   "outputs": [],
   "source": [
    "CLIENT_ID = \"<introduce your client id>\"\n",
    "CLIENT_SECRET = \"<introduce your client secret>\""
   ]
  },
  {
   "cell_type": "code",
   "execution_count": 1,
   "metadata": {},
   "outputs": [],
   "source": [
    "from dotenv import load_dotenv\n",
    "import os\n",
    "\n",
    "load_dotenv()\n",
    "api_key = os.getenv(\"API_KEY\")\n",
    "\n",
    "CLIENT_ID = \"a22ea8fef4b947c1994815a00476cf0c\"\n",
    "CLIENT_SECRET = api_key"
   ]
  },
  {
   "cell_type": "code",
   "execution_count": 4,
   "metadata": {},
   "outputs": [],
   "source": [
    "# If you havent done so, install the spotipy wrapper\n",
    "#!pip install spotipy"
   ]
  },
  {
   "cell_type": "markdown",
   "metadata": {},
   "source": [
    "Once you have done it, we will start initializing the API."
   ]
  },
  {
   "cell_type": "code",
   "execution_count": 2,
   "metadata": {},
   "outputs": [],
   "source": [
    "import spotipy\n",
    "from spotipy.oauth2 import SpotifyClientCredentials\n",
    "\n",
    "#Initialize SpotiPy with user credentials\n",
    "sp = spotipy.Spotify(auth_manager=SpotifyClientCredentials(client_id=CLIENT_ID,\n",
    "                                                           client_secret=CLIENT_SECRET))\n"
   ]
  },
  {
   "cell_type": "markdown",
   "metadata": {},
   "source": [
    "## Using the search method"
   ]
  },
  {
   "cell_type": "markdown",
   "metadata": {},
   "source": [
    "Now, let's use the search method by introducing a \"query\". For example, let's try searching for \"Lady Gaga\":"
   ]
  },
  {
   "cell_type": "code",
   "execution_count": 331,
   "metadata": {
    "tags": []
   },
   "outputs": [],
   "source": [
    "results = sp.search(q='Lady Gaga', limit=50)\n",
    "#results"
   ]
  },
  {
   "cell_type": "code",
   "execution_count": 68,
   "metadata": {},
   "outputs": [
    {
     "data": {
      "text/plain": [
       "dict_keys(['tracks'])"
      ]
     },
     "execution_count": 68,
     "metadata": {},
     "output_type": "execute_result"
    }
   ],
   "source": [
    "results.keys() # We can see that we only have tracks"
   ]
  },
  {
   "cell_type": "code",
   "execution_count": 69,
   "metadata": {},
   "outputs": [
    {
     "data": {
      "text/plain": [
       "dict_keys(['href', 'items', 'limit', 'next', 'offset', 'previous', 'total'])"
      ]
     },
     "execution_count": 69,
     "metadata": {},
     "output_type": "execute_result"
    }
   ],
   "source": [
    "results[\"tracks\"].keys() # Let's check the values"
   ]
  },
  {
   "cell_type": "code",
   "execution_count": 70,
   "metadata": {},
   "outputs": [
    {
     "data": {
      "text/plain": [
       "'https://api.spotify.com/v1/search?query=Lady+Gaga&type=track&offset=0&limit=50'"
      ]
     },
     "execution_count": 70,
     "metadata": {},
     "output_type": "execute_result"
    }
   ],
   "source": [
    "results[\"tracks\"][\"href\"] # Query we have searched "
   ]
  },
  {
   "cell_type": "code",
   "execution_count": 332,
   "metadata": {
    "scrolled": true,
    "tags": []
   },
   "outputs": [],
   "source": [
    "results[\"tracks\"][\"items\"] #items (actual tracks)"
   ]
  },
  {
   "cell_type": "code",
   "execution_count": 72,
   "metadata": {},
   "outputs": [
    {
     "data": {
      "text/plain": [
       "50"
      ]
     },
     "execution_count": 72,
     "metadata": {},
     "output_type": "execute_result"
    }
   ],
   "source": [
    "results[\"tracks\"][\"limit\"]#Limit we have chosen"
   ]
  },
  {
   "cell_type": "code",
   "execution_count": 78,
   "metadata": {},
   "outputs": [
    {
     "data": {
      "text/plain": [
       "'Bad Romance'"
      ]
     },
     "execution_count": 78,
     "metadata": {},
     "output_type": "execute_result"
    }
   ],
   "source": [
    "# Track name\n",
    "results[\"tracks\"][\"items\"][0][\"name\"] "
   ]
  },
  {
   "cell_type": "code",
   "execution_count": 12,
   "metadata": {},
   "outputs": [
    {
     "data": {
      "text/plain": [
       "'https://api.spotify.com/v1/search?query=Lady+Gaga&type=track&offset=50&limit=50'"
      ]
     },
     "execution_count": 12,
     "metadata": {},
     "output_type": "execute_result"
    }
   ],
   "source": [
    "results[\"tracks\"][\"next\"] #link to the next page (next 50 tracks)"
   ]
  },
  {
   "cell_type": "code",
   "execution_count": 13,
   "metadata": {
    "tags": []
   },
   "outputs": [
    {
     "data": {
      "text/plain": [
       "0"
      ]
     },
     "execution_count": 13,
     "metadata": {},
     "output_type": "execute_result"
    }
   ],
   "source": [
    "results[\"tracks\"][\"offset\"] # Actual offset (starting point)"
   ]
  },
  {
   "cell_type": "code",
   "execution_count": 15,
   "metadata": {},
   "outputs": [],
   "source": [
    "results[\"tracks\"][\"previous\"] #Previous search"
   ]
  },
  {
   "cell_type": "code",
   "execution_count": 16,
   "metadata": {},
   "outputs": [
    {
     "data": {
      "text/plain": [
       "1000"
      ]
     },
     "execution_count": 16,
     "metadata": {},
     "output_type": "execute_result"
    }
   ],
   "source": [
    "results[\"tracks\"][\"total\"] # Number of matches"
   ]
  },
  {
   "cell_type": "markdown",
   "metadata": {},
   "source": [
    "## Exploring the tracks"
   ]
  },
  {
   "cell_type": "code",
   "execution_count": 333,
   "metadata": {
    "scrolled": true,
    "tags": []
   },
   "outputs": [],
   "source": [
    "results[\"tracks\"][\"items\"][0] # Explore the first song"
   ]
  },
  {
   "cell_type": "code",
   "execution_count": 18,
   "metadata": {},
   "outputs": [
    {
     "data": {
      "text/plain": [
       "dict_keys(['album', 'artists', 'available_markets', 'disc_number', 'duration_ms', 'explicit', 'external_ids', 'external_urls', 'href', 'id', 'is_local', 'name', 'popularity', 'preview_url', 'track_number', 'type', 'uri'])"
      ]
     },
     "execution_count": 18,
     "metadata": {},
     "output_type": "execute_result"
    }
   ],
   "source": [
    "results[\"tracks\"][\"items\"][0].keys() # We will focus on album, artists, id, name, popularity, type and uri"
   ]
  },
  {
   "cell_type": "code",
   "execution_count": 19,
   "metadata": {},
   "outputs": [
    {
     "data": {
      "text/plain": [
       "[{'external_urls': {'spotify': 'https://open.spotify.com/artist/1HY2Jd0NmPuamShAr6KMms'},\n",
       "  'href': 'https://api.spotify.com/v1/artists/1HY2Jd0NmPuamShAr6KMms',\n",
       "  'id': '1HY2Jd0NmPuamShAr6KMms',\n",
       "  'name': 'Lady Gaga',\n",
       "  'type': 'artist',\n",
       "  'uri': 'spotify:artist:1HY2Jd0NmPuamShAr6KMms'}]"
      ]
     },
     "execution_count": 19,
     "metadata": {},
     "output_type": "execute_result"
    }
   ],
   "source": [
    "# Track artists\n",
    "results[\"tracks\"][\"items\"][0][\"artists\"] "
   ]
  },
  {
   "cell_type": "code",
   "execution_count": 20,
   "metadata": {},
   "outputs": [
    {
     "name": "stdout",
     "output_type": "stream",
     "text": [
      "Lady Gaga\n"
     ]
    }
   ],
   "source": [
    "# Track artists names\n",
    "for artist in results[\"tracks\"][\"items\"][0][\"artists\"]:\n",
    "    print(artist[\"name\"])"
   ]
  },
  {
   "cell_type": "code",
   "execution_count": 21,
   "metadata": {},
   "outputs": [
    {
     "data": {
      "text/plain": [
       "'0SiywuOBRcynK0uKGWdCnn'"
      ]
     },
     "execution_count": 21,
     "metadata": {},
     "output_type": "execute_result"
    }
   ],
   "source": [
    "# Track ID\n",
    "results[\"tracks\"][\"items\"][0][\"id\"] "
   ]
  },
  {
   "cell_type": "code",
   "execution_count": 64,
   "metadata": {},
   "outputs": [
    {
     "data": {
      "text/plain": [
       "'Cruel Summer'"
      ]
     },
     "execution_count": 64,
     "metadata": {},
     "output_type": "execute_result"
    }
   ],
   "source": [
    "# Track name\n",
    "results[\"tracks\"][\"items\"][0][\"name\"] "
   ]
  },
  {
   "cell_type": "code",
   "execution_count": 23,
   "metadata": {},
   "outputs": [
    {
     "data": {
      "text/plain": [
       "86"
      ]
     },
     "execution_count": 23,
     "metadata": {},
     "output_type": "execute_result"
    }
   ],
   "source": [
    "# Popularity index\n",
    "results[\"tracks\"][\"items\"][0][\"popularity\"] "
   ]
  },
  {
   "cell_type": "markdown",
   "metadata": {},
   "source": [
    "Spotify songs are identified by either a \"url\", a \"uri\", or an \"id\". \n",
    "\n",
    "- The `id` is an alphanumeric code, and it's the nuclear part of the identifier.\n",
    "\n",
    "- The `uri` contains \"spotify:track\" before the id. An uri is useful because it can be searched manually in the Spotify app.\n",
    "\n",
    "- The `url` is a link to the song on the Spotify web player.\n"
   ]
  },
  {
   "cell_type": "code",
   "execution_count": 24,
   "metadata": {},
   "outputs": [
    {
     "data": {
      "text/plain": [
       "'spotify:track:0SiywuOBRcynK0uKGWdCnn'"
      ]
     },
     "execution_count": 24,
     "metadata": {},
     "output_type": "execute_result"
    }
   ],
   "source": [
    "results[\"tracks\"][\"items\"][0][\"uri\"]"
   ]
  },
  {
   "cell_type": "markdown",
   "metadata": {},
   "source": [
    "## Exercise 1: Discovering New Music through Your Favorite Artists\n",
    "\n",
    "**Objective:** \n",
    "Uncover new music by exploring the top tracks of your favorite artists and their related artists.\n",
    "\n",
    "**Instructions:**\n",
    "\n",
    "1. **List Your Favorite Artists**:\n",
    "    - Make a list of your three favorite artists and store it in a variable named `artists`.\n",
    "    - Example: `artists = [\"Los Fabulosos Cadillacs\", \"Manu Chao\", \"Muchachito Bombo Infierno\"]`.\n",
    "\n",
    "2. **Fetch Top Tracks**:\n",
    "    - Write a function named `get_top_tracks`.\n",
    "    - This function should accept an artist's name and return the name of the first 5 top tracks by that artist.\n",
    "    - Use the function `get_top_tracks` to get the first 5 top tracks for each artist in your `artists` list and store the results in a new list named `top_tracks_list`.\n",
    "\n",
    "3. **Discover Related Artists**:\n",
    "    - Write a function named `find_related_artists`.\n",
    "    - This function should accept an artist's name and return the names of the first 5 artists related to the provided artist.\n",
    "    - Store the results in a list named `related_artists_list`.\n",
    "\n",
    "**Challenge:** \n",
    "Combine the above steps to create a playlist that includes the top tracks of your favorite artists and the top tracks of the artists related to them."
   ]
  },
  {
   "cell_type": "markdown",
   "metadata": {},
   "source": [
    "**Hint Section for 3. **Discover Related Artists**:**\n",
    "\n",
    "1. **Getting Artist ID**:\n",
    "    - Remember that every artist on Spotify has a unique identifier: their `id`. To get the related artists, you first need to fetch the ID of the given artist.\n",
    "    - Consider using the `sp.search` method to query the artist's name. The method requires a `q` parameter, which is your query (in this case, the artist's name). It also has a `limit` parameter, which specifies the number of tracks it returns. In this case, 1 track is enough, since we just want the artist ID. \n",
    "    - Each track in the results has an associated 'artists' field. This field is a list containing details about all artists involved in that track.\n",
    "   - For most tracks, especially those by a single artist, this list will contain one artist. From this artist's details, you can extract the 'id' field, which is the unique identifier for that artist on Spotify.\n",
    "\n",
    "\n",
    "3. **Fetching Related Artists**:\n",
    "    - Once you have the artist's ID, you can use another SpotiPy method to fetch related artists. Think about which SpotiPy method allows you to get related artists using an artist's ID. Here is the documentation link: https://spotipy.readthedocs.io/en/2.22.1/. \n",
    "    - This method will return a list of related artists. You'll need to extract the relevant details (artist names) from this list.\n",
    "\n",
    "4. **Iterating for Multiple Artists**:\n",
    "    - Once you have a function that returns related artists names for one artist, you can use a list comprehension to apply this function to a list of artist names.\n",
    "\n",
    "5. **Testing**:\n",
    "    - Always test your function with one artist name first. Once you're confident it works, then apply it to the entire list.\n",
    "\n",
    "Remember, the key is to break the problem down into manageable steps. Use the SpotiPy documentation as a resource to understand available methods and their return structures."
   ]
  },
  {
   "cell_type": "code",
   "execution_count": 282,
   "metadata": {},
   "outputs": [],
   "source": [
    "# Get the artist Beyonce ID\n",
    "results_1 = sp.search(q='Beyonce Knowles', limit=10)\n",
    "#results_1"
   ]
  },
  {
   "cell_type": "code",
   "execution_count": 281,
   "metadata": {},
   "outputs": [],
   "source": [
    "# Get artist Katy Perry ID\n",
    "results_2 = sp.search(q = 'Katy Perry', limit = 10)\n",
    "#results_2"
   ]
  },
  {
   "cell_type": "code",
   "execution_count": 280,
   "metadata": {},
   "outputs": [],
   "source": [
    "# Get artist Tayler Swift ID\n",
    "results_3 = sp.search(q = 'Tayler Swift',limit = 10)\n",
    "#esults_3"
   ]
  },
  {
   "cell_type": "code",
   "execution_count": 278,
   "metadata": {},
   "outputs": [],
   "source": [
    "artist_name = ['Beyonce Knowles', 'Katy Perry','Tayler Swift']\n",
    "\n",
    "def get_top_tracks(artist_name):\n",
    "    top_tracks_list = []\n",
    "    print(\"Five top tracks of each of the following artists:\")\n",
    "    print()\n",
    "    print(artist_name[0])\n",
    "    track_1 = results_1[\"tracks\"][\"items\"][0][\"name\"]\n",
    "    track_2 = results_1[\"tracks\"][\"items\"][1][\"name\"]\n",
    "    track_3 = results_1[\"tracks\"][\"items\"][2][\"name\"]\n",
    "    track_4 = results_1[\"tracks\"][\"items\"][3][\"name\"]\n",
    "    track_5 = results_1[\"tracks\"][\"items\"][4][\"name\"]\n",
    "    top_5_b = [track_1, track_2, track_3, track_4, track_5]\n",
    "    top_tracks_list.append(top_5_b)\n",
    "    \n",
    "    print(artist_name[1])\n",
    "    track_1k = results_2[\"tracks\"][\"items\"][0][\"name\"]\n",
    "    track_2k = results_2[\"tracks\"][\"items\"][1][\"name\"]\n",
    "    track_3k = results_2[\"tracks\"][\"items\"][2][\"name\"]\n",
    "    track_4k = results_2[\"tracks\"][\"items\"][3][\"name\"]\n",
    "    track_5k = results_2[\"tracks\"][\"items\"][4][\"name\"]\n",
    "    top_5_k = [track_1k, track_2k, track_3k, track_4k, track_5k]\n",
    "    top_tracks_list.append(top_5_k)\n",
    "    \n",
    "    print(artist_name[2])\n",
    "    track_1t = results_3[\"tracks\"][\"items\"][0][\"name\"]\n",
    "    track_2t = results_3[\"tracks\"][\"items\"][1][\"name\"]\n",
    "    track_3t = results_3[\"tracks\"][\"items\"][2][\"name\"]\n",
    "    track_4t = results_3[\"tracks\"][\"items\"][3][\"name\"]\n",
    "    track_5t = results_3[\"tracks\"][\"items\"][4][\"name\"]\n",
    "    top_5_t = [track_1t, track_2t, track_3t, track_4t, track_5t]\n",
    "    top_tracks_list.append(top_5_t)\n",
    "    print()\n",
    "    return top_tracks_list  "
   ]
  },
  {
   "cell_type": "code",
   "execution_count": 279,
   "metadata": {},
   "outputs": [
    {
     "name": "stdout",
     "output_type": "stream",
     "text": [
      "Five top tracks of each of the following artists:\n",
      "\n",
      "Beyonce Knowles\n",
      "Katy Perry\n",
      "Tayler Swift\n",
      "\n"
     ]
    },
    {
     "data": {
      "text/plain": [
       "[[\"TEXAS HOLD 'EM\", 'Haunted', \"TEXAS HOLD 'EM\", 'Formation', '16 CARRIAGES'],\n",
       " ['Roar',\n",
       "  'Last Friday Night (T.G.I.F.)',\n",
       "  'Teenage Dream',\n",
       "  'Firework',\n",
       "  'The One That Got Away'],\n",
       " ['Cruel Summer',\n",
       "  \"Is It Over Now? (Taylor's Version) (From The Vault)\",\n",
       "  'Lover',\n",
       "  'Don’t Blame Me',\n",
       "  'Anti-Hero']]"
      ]
     },
     "execution_count": 279,
     "metadata": {},
     "output_type": "execute_result"
    }
   ],
   "source": [
    "get_top_tracks(artist_name)"
   ]
  },
  {
   "cell_type": "code",
   "execution_count": 275,
   "metadata": {
    "scrolled": true
   },
   "outputs": [],
   "source": [
    "# let's find out the first artist name after the main artist Tayler Swift\n",
    "related_artists_t = sp.artist_related_artists(\"06HL4z0CvFAxyc27GXpf02\")\n",
    "#related_artists_t"
   ]
  },
  {
   "cell_type": "code",
   "execution_count": 274,
   "metadata": {},
   "outputs": [],
   "source": [
    "# let's find out the first artist name after the main artist Katy Perry\n",
    "related_artists_k = sp.artist_related_artists('6jJ0s89eD6GaHleKKya26X')\n",
    "#related_artists_k"
   ]
  },
  {
   "cell_type": "code",
   "execution_count": 273,
   "metadata": {},
   "outputs": [],
   "source": [
    "# let's find out the first artist name after the main artist Beyonce \n",
    "related_artists_b = sp.artist_related_artists('6vWDO969PvNqNYHIOW5v0m')\n",
    "#related_artists_b"
   ]
  },
  {
   "cell_type": "code",
   "execution_count": 271,
   "metadata": {},
   "outputs": [],
   "source": [
    "artist_name = ['Tayler Swift','Katy Perry','Beyonce Knowles']\n",
    "\n",
    "def find_related_artists(artist_name):\n",
    "    related_artists_list = []\n",
    "    print(\"Five artists which comes up after each the following three artists: \")\n",
    "    print()\n",
    "    print(artist_name[0])\n",
    "    one_t = related_artists_t['artists'][[0][0]]['name']\n",
    "    second_t = related_artists_t['artists'][[1][0]]['name']\n",
    "    third_t = related_artists_t['artists'][[2][0]]['name']\n",
    "    four_t = related_artists_t['artists'][[3][0]]['name']\n",
    "    five_t = related_artists_t['artists'][[4][0]]['name']\n",
    "    top_tr = [one_t, second_t,third_t,four_t,five_t]\n",
    "    related_artists_list.append(top_tr)\n",
    "    \n",
    "    print(artist_name[1])\n",
    "    one_k = related_artists_k['artists'][[0][0]]['name']\n",
    "    second_k = related_artists_k['artists'][[1][0]]['name']\n",
    "    third_k = related_artists_k['artists'][[2][0]]['name']\n",
    "    four_k = related_artists_k['artists'][[3][0]]['name']\n",
    "    five_k = related_artists_k['artists'][[4][0]]['name']\n",
    "    top_kr = [one_k, second_k,third_k,four_k,five_k]\n",
    "    related_artists_list.append(top_kr)\n",
    "    \n",
    "    print(artist_name[2])\n",
    "    one_b = related_artists_b['artists'][[0][0]]['name']\n",
    "    second_b = related_artists_b['artists'][[1][0]]['name']\n",
    "    third_b = related_artists_b['artists'][[2][0]]['name']\n",
    "    four_b = related_artists_b['artists'][[3][0]]['name']\n",
    "    five_b = related_artists_b['artists'][[4][0]]['name']\n",
    "    top_br = [one_b, second_b,third_b,four_b,five_b]\n",
    "    related_artists_list.append(top_br)\n",
    "    return related_artists_list"
   ]
  },
  {
   "cell_type": "code",
   "execution_count": 272,
   "metadata": {},
   "outputs": [
    {
     "name": "stdout",
     "output_type": "stream",
     "text": [
      "Five artists which comes up after each the following three artists: \n",
      "\n",
      "Tayler Swift\n",
      "Katy Perry\n",
      "Beyonce Knowles\n"
     ]
    },
    {
     "data": {
      "text/plain": [
       "[['Selena Gomez',\n",
       "  'Olivia Rodrigo',\n",
       "  'Katy Perry',\n",
       "  'Ariana Grande',\n",
       "  'Harry Styles'],\n",
       " ['Britney Spears', 'Meghan Trainor', 'Lady Gaga', 'Demi Lovato', 'Kesha'],\n",
       " [\"Destiny's Child\",\n",
       "  'Alicia Keys',\n",
       "  'Jennifer Lopez',\n",
       "  'Rihanna',\n",
       "  'Nicki Minaj']]"
      ]
     },
     "execution_count": 272,
     "metadata": {},
     "output_type": "execute_result"
    }
   ],
   "source": [
    "find_related_artists(artist_name)"
   ]
  },
  {
   "cell_type": "markdown",
   "metadata": {},
   "source": [
    "## Playlists\n",
    "\n",
    "The `sp.featured_playlists()` method in `spotipy` fetches a list of Spotify's featured playlists at a given moment. These are curated playlists that Spotify often highlights on the platform's homepage. The method provides a snapshot of the playlists that are being promoted or featured by Spotify at the time of the request.\n",
    "\n",
    "Once you've fetched the featured playlists, you can extract their IDs (and other details)."
   ]
  },
  {
   "cell_type": "code",
   "execution_count": 337,
   "metadata": {},
   "outputs": [],
   "source": [
    "sp.featured_playlists() # We get a playlist id of a playlist we like"
   ]
  },
  {
   "cell_type": "markdown",
   "metadata": {},
   "source": [
    "### Getting a Playlist's Details\n",
    "To fetch details about a specific playlist, you can use the playlist method. You'll need the playlist's Spotify ID."
   ]
  },
  {
   "cell_type": "markdown",
   "metadata": {},
   "source": [
    "In this example, we will use the following playlist id: *37i9dQZF1DXd9zR7tdziuQ*"
   ]
  },
  {
   "cell_type": "code",
   "execution_count": 284,
   "metadata": {},
   "outputs": [],
   "source": [
    "playlist_id = \"37i9dQZF1DXd9zR7tdziuQ\"\n",
    "playlist = sp.playlist(playlist_id)"
   ]
  },
  {
   "cell_type": "code",
   "execution_count": 285,
   "metadata": {},
   "outputs": [
    {
     "name": "stdout",
     "output_type": "stream",
     "text": [
      "Hits acústicos\n",
      "Relájate con tus canciones favoritas en versión acústica / Descontrai com versões acústicas das tuas músicas preferidas.\n"
     ]
    }
   ],
   "source": [
    "print(playlist['name'])  # Print the playlist's name\n",
    "print(playlist['description'])  # Print the playlist's description"
   ]
  },
  {
   "cell_type": "markdown",
   "metadata": {},
   "source": [
    "### Getting Tracks from a Playlist\n",
    "If you want to get the tracks from a specific playlist, you can use the playlist_tracks method."
   ]
  },
  {
   "cell_type": "code",
   "execution_count": 335,
   "metadata": {},
   "outputs": [],
   "source": [
    "tracks = sp.playlist_tracks(playlist_id)\n",
    "for track in tracks['items']:\n",
    "    print(track['track']['name'])  # Print each track's name"
   ]
  },
  {
   "cell_type": "markdown",
   "metadata": {},
   "source": [
    "### Getting Artists from a Playlist\n",
    "\n",
    "To extract all the artists from the tracks in a playlist, you'd typically follow these steps:\n",
    "\n",
    "1. Fetch the playlist's tracks.\n",
    "2. Iterate through each track.\n",
    "3. For each track, extract the associated artists."
   ]
  },
  {
   "cell_type": "code",
   "execution_count": 336,
   "metadata": {},
   "outputs": [],
   "source": [
    "# List to store unique artist names\n",
    "artists_list = []\n",
    "\n",
    "for track_item in tracks['items']:\n",
    "    track = track_item['track']\n",
    "    for artist in track['artists']:\n",
    "        artist_name = artist['name']\n",
    "        if artist_name not in artists_list:  # This ensures each artist is added only once\n",
    "            artists_list.append(artist_name)\n",
    "\n",
    "#print(artists_list)"
   ]
  },
  {
   "cell_type": "markdown",
   "metadata": {},
   "source": [
    "## Exercise 2: Unraveling the World of Playlists\n",
    "\n",
    "\n",
    "1. **Featured Exploration**: \n",
    "   - Fetch the list of Spotify's current featured playlists. \n",
    "   - Extract and display the names and IDs of the top 5 featured playlists.\n",
    "   \n",
    "2. **Deep Dive**:\n",
    "   - Choose any one of the top 5 featured playlists (you can choose the one you personally find most interesting or simply pick one randomly).\n",
    "   - Fetch and display its name, description, and total track count.\n",
    "\n",
    "3. **Track-tastic**:\n",
    "   - Extract and display the names of the first 10 tracks in the chosen playlist.\n",
    "\n",
    "4. **Artistic Flair**:\n",
    "   - Create a dictionary where the keys are the names of the first 10 tracks, and the values are lists containing the names of the artists associated with each track.\n",
    "   - For example: `{\"TrackName1\": [\"Artist1\", \"Artist2\"], \"TrackName2\": [\"Artist3\"]}`\n",
    "   "
   ]
  },
  {
   "cell_type": "code",
   "execution_count": 291,
   "metadata": {},
   "outputs": [
    {
     "data": {
      "text/plain": [
       "dict_keys(['message', 'playlists'])"
      ]
     },
     "execution_count": 291,
     "metadata": {},
     "output_type": "execute_result"
    }
   ],
   "source": [
    "# Fetch the list of Spotify's current featured playlists\n",
    "feat_list = sp.featured_playlists()\n",
    "feat_list.keys()"
   ]
  },
  {
   "cell_type": "code",
   "execution_count": 296,
   "metadata": {},
   "outputs": [
    {
     "data": {
      "text/plain": [
       "dict_keys(['href', 'items', 'limit', 'next', 'offset', 'previous', 'total'])"
      ]
     },
     "execution_count": 296,
     "metadata": {},
     "output_type": "execute_result"
    }
   ],
   "source": [
    "feat_list['playlists'].keys()"
   ]
  },
  {
   "cell_type": "code",
   "execution_count": 308,
   "metadata": {
    "scrolled": true
   },
   "outputs": [
    {
     "name": "stdout",
     "output_type": "stream",
     "text": [
      "Deutschrap Brandneu   37i9dQZF1DWSTqUqJcxFk6\n",
      "Hot Hits Deutschland   37i9dQZF1DX4jP4eebSWR9\n",
      "New Music Friday Deutschland   37i9dQZF1DWUW2bvSkjcJ6\n",
      "Modus Mio   37i9dQZF1DX36edUJpD76c\n",
      "Today’s Top Hits   37i9dQZF1DXcBWIGoYBM5M\n"
     ]
    }
   ],
   "source": [
    "# Top 5 playlists \n",
    "name1 = feat_list['playlists']['items'][0]['name']\n",
    "id1 = feat_list['playlists']['items'][0]['id']\n",
    "print(name1,\" \", id1)\n",
    "name2 = feat_list['playlists']['items'][1]['name']\n",
    "id2 = feat_list['playlists']['items'][1]['id']\n",
    "print(name2,\" \" ,id2)\n",
    "name3 = feat_list['playlists']['items'][2]['name']\n",
    "id3 = feat_list['playlists']['items'][2]['id']\n",
    "print(name3,\" \" ,id3)\n",
    "name4 = feat_list['playlists']['items'][3]['name']\n",
    "id4 = feat_list['playlists']['items'][3]['id']\n",
    "print(name4,\" \" ,id4)\n",
    "name5 = feat_list['playlists']['items'][4]['name']\n",
    "id5 = feat_list['playlists']['items'][4]['id']\n",
    "print(name5,\" \" ,id5)"
   ]
  },
  {
   "cell_type": "code",
   "execution_count": 329,
   "metadata": {},
   "outputs": [
    {
     "name": "stdout",
     "output_type": "stream",
     "text": [
      "Name:  Deutschrap Brandneu \n",
      " Description:  Die wichtigsten Deutschrap Releases der letzten Wochen - jeden Freitag aktualisiert. Cover: Teven \n",
      " Total_track:  {'href': 'https://api.spotify.com/v1/playlists/37i9dQZF1DWSTqUqJcxFk6/tracks', 'total': 79}\n"
     ]
    }
   ],
   "source": [
    "# name, description, and total track count of the first playlist\n",
    "name1 = feat_list['playlists']['items'][0]['name']\n",
    "des1 = feat_list['playlists']['items'][0]['description']\n",
    "tra1 = feat_list['playlists']['items'][0]['tracks']\n",
    "\n",
    "print(\"Name: \",name1,'\\n',\"Description: \" ,des1, '\\n',\"Total_track: \", tra1)"
   ]
  },
  {
   "cell_type": "code",
   "execution_count": null,
   "metadata": {},
   "outputs": [],
   "source": []
  }
 ],
 "metadata": {
  "kernelspec": {
   "display_name": "Python 3",
   "language": "python",
   "name": "python3"
  },
  "language_info": {
   "codemirror_mode": {
    "name": "ipython",
    "version": 3
   },
   "file_extension": ".py",
   "mimetype": "text/x-python",
   "name": "python",
   "nbconvert_exporter": "python",
   "pygments_lexer": "ipython3",
   "version": "3.6.8"
  }
 },
 "nbformat": 4,
 "nbformat_minor": 5
}
